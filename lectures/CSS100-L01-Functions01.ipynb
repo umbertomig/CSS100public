{
 "cells": [
  {
   "cell_type": "markdown",
   "metadata": {
    "slideshow": {
     "slide_type": "slide"
    }
   },
   "source": [
    "# CSS 100\n",
    "\n",
    "## Advanced Programming for Computational Social Sciences\n",
    "\n",
    "### Lecture 01 - Intro and Functions 01"
   ]
  },
  {
   "cell_type": "markdown",
   "metadata": {
    "slideshow": {
     "slide_type": "slide"
    }
   },
   "source": [
    "# CSS 100\n",
    "\n",
    "- This class will introduce you advanced techniques in Python.\n",
    "\n",
    "- There is a lot to do, and we will have tons of fun while doing it.\n",
    "\n",
    "- This is an upper level class, so I expect you to behave as an `upper-level student`.\n",
    "    - Come to class\n",
    "    - Ask questions, whenever you feel like it\n",
    "    \n",
    "- This class GitHub: https://github.com/umbertomig/CSS100public\n",
    "\n",
    "- Shall we check the syllabus?!"
   ]
  },
  {
   "cell_type": "markdown",
   "metadata": {
    "slideshow": {
     "slide_type": "slide"
    }
   },
   "source": [
    "# CSS 100\n",
    "\n",
    "## About me\n",
    "\n",
    "- My name is Umberto Mignozzetti. I am a Political Science professor at UCSD.\n",
    "\n",
    "    - I study how to improve welfare in developing democracies. This field of study is called `Comparative Political Economy.`\n",
    "    \n",
    "    - My second field of study is `Political Methodology.` It consists in applied methods to political science problems.\n",
    "    \n",
    "    - In my free time, I like to watch and play soccer (as you can see, mostly watch nowadays).\n",
    "\n",
    "- My email is: umbertomig@ucsd.edu\n",
    "\n",
    "- My office hours are from 11 AM to 12 PM, but I ask you to [book them on calendly first](https://calendly.com/umberto-mignozzetti/office-hours). It helps me organize."
   ]
  },
  {
   "cell_type": "markdown",
   "metadata": {
    "slideshow": {
     "slide_type": "slide"
    }
   },
   "source": [
    "# CSS 100\n",
    "\n",
    "## About you\n",
    "\n",
    "- You are most likely seating close by the next *CEO*, *Eccentric Innovator*, *MacArthur Genius*, *Bill or Melinda Gates* (but with more style), *Nobel Peace Prize* recipient, and so on. \n",
    "\n",
    "- In the next five minutes, I want you to introduce yourself to the colleague by your side tell them:\n",
    "    \n",
    "    - Your name, college, and major\n",
    "    \n",
    "    - Your favorite subject so far (CSS 100 is acceptable!)\n",
    "    \n",
    "    - And what you like to do in your free time\n",
    "    \n",
    "    - If you want, tell your new friend when you could meet to solve the problem sets together.\n",
    "    \n",
    "- These bonds that you are forming now may help you a lot, both in this class, and in the future."
   ]
  },
  {
   "cell_type": "markdown",
   "metadata": {
    "slideshow": {
     "slide_type": "slide"
    }
   },
   "source": [
    "# CSS 100\n",
    "\n",
    "## Functions\n",
    "\n",
    "In this class, we will review functions using Python.\n",
    "\n",
    "Functions are great for two things:\n",
    "\n",
    "1. Maximizing code reuse and minimizing redundancy\n",
    "2. Procedural decomposition\n",
    "\n",
    "First, if you catch yourself copying and pasting code around, it means that a function could help you up. Second, functions are great ways to compartimentalize the code.\n",
    "\n",
    "Let's check an example funtion?"
   ]
  },
  {
   "cell_type": "markdown",
   "metadata": {
    "slideshow": {
     "slide_type": "slide"
    }
   },
   "source": [
    "## The `def` statement\n",
    "\n",
    "The `def` statement creates functions in Python. The way it works is fairly simple:\n",
    "\n",
    "```\n",
    "# One example\n",
    "def name(arg1, arg2,... argN):\n",
    "    statements\n",
    "    \n",
    "# Another example\n",
    "def name(arg1, arg2,... argN):\n",
    "    statements\n",
    "    return something_here\n",
    "```\n",
    "\n",
    "Your function has to have a `name,` it receives a bunch of `arguments,` and inside it, you put `statements,` that are supposed to do something with the arguments, and (eventually) `return`s a result."
   ]
  },
  {
   "cell_type": "code",
   "execution_count": 1,
   "metadata": {
    "slideshow": {
     "slide_type": "slide"
    }
   },
   "outputs": [],
   "source": [
    "# Let's create a function that takes two numbers and sum them?"
   ]
  },
  {
   "cell_type": "markdown",
   "metadata": {
    "slideshow": {
     "slide_type": "slide"
    }
   },
   "source": [
    "**Exercise**: Create a function that receives a number, and compute the remainder of a division by two."
   ]
  },
  {
   "cell_type": "code",
   "execution_count": 2,
   "metadata": {
    "slideshow": {
     "slide_type": "fragment"
    }
   },
   "outputs": [],
   "source": [
    "## Your answers here!"
   ]
  },
  {
   "cell_type": "markdown",
   "metadata": {
    "slideshow": {
     "slide_type": "slide"
    }
   },
   "source": [
    "**Exercise**: Create a function that receives the weight (in pounds), and the height (in inches), and returns the BMI."
   ]
  },
  {
   "cell_type": "code",
   "execution_count": 3,
   "metadata": {
    "slideshow": {
     "slide_type": "fragment"
    }
   },
   "outputs": [],
   "source": [
    "## Your answers here!"
   ]
  },
  {
   "cell_type": "markdown",
   "metadata": {
    "slideshow": {
     "slide_type": "slide"
    }
   },
   "source": [
    "## Function behavior\n",
    "\n",
    "Note that the polymorphism of operators is carried out in the functions. Note also that the function `res` only exists inside the function. "
   ]
  },
  {
   "cell_type": "code",
   "execution_count": 4,
   "metadata": {
    "scrolled": true,
    "slideshow": {
     "slide_type": "fragment"
    }
   },
   "outputs": [],
   "source": [
    "# My code here"
   ]
  },
  {
   "cell_type": "markdown",
   "metadata": {
    "slideshow": {
     "slide_type": "slide"
    }
   },
   "source": [
    "**Exercise**: What happens if you try a text in your BMI function? Why do you think this happens?"
   ]
  },
  {
   "cell_type": "code",
   "execution_count": 5,
   "metadata": {
    "slideshow": {
     "slide_type": "fragment"
    }
   },
   "outputs": [],
   "source": [
    "## Your answers here!"
   ]
  },
  {
   "cell_type": "markdown",
   "metadata": {
    "slideshow": {
     "slide_type": "slide"
    }
   },
   "source": [
    "## Best practices with functions\n",
    "\n",
    "There are three best practices to adopt when writing a function:\n",
    "\n",
    "1. Document your function\n",
    "2. Don't repeat yourself\n",
    "3. Do one thing"
   ]
  },
  {
   "cell_type": "markdown",
   "metadata": {
    "slideshow": {
     "slide_type": "slide"
    }
   },
   "source": [
    "### Google Style\n",
    "\n",
    "For example:\n",
    "\n",
    "```\n",
    "def myfunc(x):\n",
    "    \"\"\"Square the number.\n",
    "    \n",
    "    Args:\n",
    "        x (int): Number inserted by the user\n",
    "    \n",
    "    Returns:\n",
    "        int\n",
    "    \"\"\"\n",
    "    return x ** 2\n",
    "```\n",
    "\n",
    "And now, the function has a docstring attached to it.\n",
    "\n",
    "You can find an example of several functions using Google Style in [here](https://gist.github.com/redlotus/3bc387c2591e3e908c9b63b97b11d24e)."
   ]
  },
  {
   "cell_type": "markdown",
   "metadata": {
    "slideshow": {
     "slide_type": "slide"
    }
   },
   "source": [
    "### Don't repeat yourself\n",
    "\n",
    "When you find yourself repeating the code around, you probably need a function.\n",
    "\n",
    "Example:\n",
    "\n",
    "```\n",
    "# John\n",
    "bmi = 29\n",
    "if bmi > 28:\n",
    "    print(\"BMI higher than 28\")\n",
    "\n",
    "# Anna\n",
    "bmi = 22\n",
    "if bmi > 28:\n",
    "    print(\"BMI higher than 28\")\n",
    "\n",
    "# Lin\n",
    "bmi = 32\n",
    "if bmi > 28:\n",
    "    print(\"BMI higher than 28\")\n",
    "```\n",
    "\n",
    "We can build a function!"
   ]
  },
  {
   "cell_type": "markdown",
   "metadata": {
    "slideshow": {
     "slide_type": "slide"
    }
   },
   "source": [
    "**Exercise**: Create a documented function that receives the weight in pounds, the height in inches, and return a tuple with BMI, and the words Low, Normal, High, based on the BMI."
   ]
  },
  {
   "cell_type": "code",
   "execution_count": 6,
   "metadata": {
    "slideshow": {
     "slide_type": "fragment"
    }
   },
   "outputs": [],
   "source": [
    "## Your answers here!"
   ]
  },
  {
   "cell_type": "markdown",
   "metadata": {
    "slideshow": {
     "slide_type": "slide"
    }
   },
   "source": [
    "### Do one thing\n",
    "\n",
    "The function we created here returns two values. Let's fix it?"
   ]
  },
  {
   "cell_type": "code",
   "execution_count": 7,
   "metadata": {
    "slideshow": {
     "slide_type": "fragment"
    }
   },
   "outputs": [],
   "source": [
    "# My code here"
   ]
  },
  {
   "cell_type": "markdown",
   "metadata": {
    "slideshow": {
     "slide_type": "slide"
    }
   },
   "source": [
    "## Recursive Functions\n",
    "\n",
    "- Recursive functions are functions that call themselves during their execution.\n",
    "\n",
    "- This is a very cool and clean way to write a function in Python.\n",
    "\n",
    "- A factorial in math, by definition, is a function that:\n",
    "    - factorial(1) = 1\n",
    "    - factorial(2) = 1 x 2\n",
    "    - factorial(3) = 1 x 2 x 3\n",
    "    - factorial(4) = 1 x 2 x 3 x 4\n",
    "    - And so on such that\n",
    "    - factorial(k) = factorial(k-1) x k\n",
    "    \n",
    "- How would you code this function?"
   ]
  },
  {
   "cell_type": "markdown",
   "metadata": {
    "slideshow": {
     "slide_type": "slide"
    }
   },
   "source": [
    "## Recursive Functions\n",
    "\n",
    "- For instance, consider this solution:"
   ]
  },
  {
   "cell_type": "code",
   "execution_count": 8,
   "metadata": {
    "slideshow": {
     "slide_type": "fragment"
    }
   },
   "outputs": [],
   "source": [
    "## Factorial function\n",
    "def fact(n):\n",
    "    res = 1\n",
    "    for i in range(1, n + 1):\n",
    "        res *= i\n",
    "    return res"
   ]
  },
  {
   "cell_type": "code",
   "execution_count": 9,
   "metadata": {
    "slideshow": {
     "slide_type": "fragment"
    }
   },
   "outputs": [
    {
     "data": {
      "text/plain": [
       "120"
      ]
     },
     "execution_count": 9,
     "metadata": {},
     "output_type": "execute_result"
    }
   ],
   "source": [
    "# Testing\n",
    "fact(5)"
   ]
  },
  {
   "cell_type": "markdown",
   "metadata": {
    "slideshow": {
     "slide_type": "slide"
    }
   },
   "source": [
    "## Recursive Functions\n",
    "\n",
    "- Note one thing about the function:\n",
    "    - **factorial(k) = factorial(k-1) x k**\n",
    "    \n",
    "- This means that the function could potentially call itself, right?\n",
    "\n",
    "- So, can we rewrite the function above to eliminate the for-loop inside? \n",
    "\n",
    "- The answer is **yes**! Check it out!"
   ]
  },
  {
   "cell_type": "code",
   "execution_count": 10,
   "metadata": {
    "slideshow": {
     "slide_type": "slide"
    }
   },
   "outputs": [],
   "source": [
    "## Factorial function to rewrite\n",
    "def fact(n):\n",
    "    res = 1\n",
    "    for i in range(1, n + 1):\n",
    "        res *= i\n",
    "    return res"
   ]
  },
  {
   "cell_type": "code",
   "execution_count": 11,
   "metadata": {
    "slideshow": {
     "slide_type": "fragment"
    }
   },
   "outputs": [
    {
     "data": {
      "text/plain": [
       "120"
      ]
     },
     "execution_count": 11,
     "metadata": {},
     "output_type": "execute_result"
    }
   ],
   "source": [
    "# Testing\n",
    "fact(5)"
   ]
  },
  {
   "cell_type": "markdown",
   "metadata": {
    "slideshow": {
     "slide_type": "slide"
    }
   },
   "source": [
    "## Recursive Functions\n",
    "\n",
    "How to write recursive functions?\n",
    "\n",
    "1. Create a base-case, that will tell the function to stop.\n",
    "\n",
    "2. Think what happens in the case that the function runs more than once.\n",
    "\n",
    "And code!"
   ]
  },
  {
   "cell_type": "markdown",
   "metadata": {
    "slideshow": {
     "slide_type": "slide"
    }
   },
   "source": [
    "**Exercise**: Write a function using recursion to remove the for-loop inside the function below:"
   ]
  },
  {
   "cell_type": "code",
   "execution_count": 12,
   "metadata": {
    "slideshow": {
     "slide_type": "fragment"
    }
   },
   "outputs": [],
   "source": [
    "## Function to change\n",
    "def mysum(l):\n",
    "    \"\"\"Sum the elements in a list\n",
    "    \"\"\"\n",
    "    myres = 0\n",
    "    for i in l:\n",
    "        myres += i\n",
    "    return myres"
   ]
  },
  {
   "cell_type": "code",
   "execution_count": 13,
   "metadata": {
    "slideshow": {
     "slide_type": "fragment"
    }
   },
   "outputs": [
    {
     "data": {
      "text/plain": [
       "11"
      ]
     },
     "execution_count": 13,
     "metadata": {},
     "output_type": "execute_result"
    }
   ],
   "source": [
    "# Testing\n",
    "mysum([5, 2, 4])"
   ]
  },
  {
   "cell_type": "markdown",
   "metadata": {
    "slideshow": {
     "slide_type": "slide"
    }
   },
   "source": [
    "## Conclusion\n",
    "\n",
    "- This class, we did a mild review of functions.\n",
    "\n",
    "- We also introduced the concept of recursive functions.\n",
    "    - One thing I want to say about recursion in Python: you may overflow the stack if you do more than 1000 iters.\n",
    "    - This can be solved. We'll see later :-)\n",
    "\n",
    "- Next class, we are going to start **Functional Programming.**\n",
    "\n",
    "- Functional Programming will shift the way you solve problems. \n",
    "\n",
    "- You will see that it is an excellent way to code."
   ]
  },
  {
   "cell_type": "markdown",
   "metadata": {
    "slideshow": {
     "slide_type": "slide"
    }
   },
   "source": [
    "## See you in the next class!"
   ]
  }
 ],
 "metadata": {
  "celltoolbar": "Slideshow",
  "kernelspec": {
   "display_name": "Python 3 (ipykernel)",
   "language": "python",
   "name": "python3"
  },
  "language_info": {
   "codemirror_mode": {
    "name": "ipython",
    "version": 3
   },
   "file_extension": ".py",
   "mimetype": "text/x-python",
   "name": "python",
   "nbconvert_exporter": "python",
   "pygments_lexer": "ipython3",
   "version": "3.9.5"
  }
 },
 "nbformat": 4,
 "nbformat_minor": 4
}
