{
 "cells": [
  {
   "cell_type": "markdown",
   "metadata": {
    "slideshow": {
     "slide_type": "slide"
    }
   },
   "source": [
    "# CSS 100\n",
    "\n",
    "## Advanced Programming for Computational Social Sciences\n",
    "\n",
    "### Lecture 03 - Functions 03"
   ]
  },
  {
   "cell_type": "markdown",
   "metadata": {
    "slideshow": {
     "slide_type": "slide"
    }
   },
   "source": [
    "## Announcements\n",
    "\n",
    "- Changes in the syllabus:\n",
    "    1. Will update some due dates\n",
    "    2. Will more detailed instructions on Gradescope\n",
    "    \n",
    "- This class GitHub: https://github.com/umbertomig/CSS100public\n",
    "\n",
    "- Lab01 will be extended and Lab02 will be live later tomorrow. Come to Purva's lab to talk about it.\n",
    "\n",
    "- PS01 will be live Wednesday (always two weeks to do!). \n",
    "\n",
    "- Some of you did not have access to Videos (And thanks, Suqi for letting me know about this)."
   ]
  },
  {
   "cell_type": "markdown",
   "metadata": {
    "slideshow": {
     "slide_type": "slide"
    }
   },
   "source": [
    "## Functions\n",
    "\n",
    "We learn last class.\n",
    "\n",
    "- **Scope**: Danger zone!\n",
    "\n",
    "- **Passing Arguments**: Also danger. Mutable are pointers --> Side-effects.\n",
    "\n",
    "Today's lecture:\n",
    "\n",
    "0. **Configuring our DataHub**\n",
    "\n",
    "1. **Recursive Functions**\n",
    "\n",
    "2. **Functions as First-Class Objects**\n",
    "\n",
    "3. **Functions Annotations**\n",
    "\n",
    "4. **Benchmarking**\n",
    "\n",
    "5. **Anonymous Functions**"
   ]
  },
  {
   "cell_type": "markdown",
   "metadata": {},
   "source": [
    "## Detour: Configing DataHub\n",
    "\n",
    "- Run the following commands:\n",
    "\n",
    "```\n",
    "mkdir mykernel\n",
    "python3 -m venv mykernel\n",
    "source mykernel/bin/activate\n",
    "which pip # output = /datasets/home/…/<your-user-here>/mykernel/bin/pip\n",
    "/home/<your-user-here>/mykernel/bin/python3 -m pip install --upgrade pip\n",
    "pip install ipython ipykernel\n",
    "pip install scikit-learn\n",
    "pip install seaborn\n",
    "pip install statsmodels\n",
    "pip install otter\n",
    "pip install pytorch\n",
    "which ipython # output = /datasets/home/.../<your-user-here>/mykernel/bin/pip/ipython\n",
    "ipython kernel install --user --name=mykernel\n",
    "deactivate\n",
    "```\n",
    "\n",
    "- Then close and open again your DataHub, now you have all up-to-date! Let's check our new Lab01 to see if it is working?!"
   ]
  },
  {
   "cell_type": "markdown",
   "metadata": {
    "slideshow": {
     "slide_type": "slide"
    }
   },
   "source": [
    "## Functions\n",
    "\n",
    "- Recap of the basics:\n",
    "    1. There are two ways to return values:\n",
    "        - `return`: sends result back and stops\n",
    "        - `yield`: sends result back but pick up where they stopped (produce series of results over time)\n",
    "    2. Two ways to create functions:\n",
    "        - `def`: defines \"regular\" functions\n",
    "        - `lambda`: defines \"anonymous\" functions\n",
    "    3. Scope:\n",
    "        - `local`: Insides of the function\n",
    "        - `nonlocal`: Enclosing scope that is not global (neither local nor global)\n",
    "        - `global`: global scope\n",
    "    4. Arguments:\n",
    "        - Arguments are passed by (shared) reference\n",
    "        - `Immutables`: passed by value\n",
    "        - `Mutables`: passed by pointer"
   ]
  },
  {
   "cell_type": "markdown",
   "metadata": {
    "slideshow": {
     "slide_type": "slide"
    }
   },
   "source": [
    "## Recursive Functions\n",
    "\n",
    "- Recursive functions are functions that call themselves during their execution.\n",
    "\n",
    "- This is a very cool and clean way to write a function in Python.\n",
    "\n",
    "- A factorial in math, by definition, is a function that:\n",
    "    - factorial(1) = 1\n",
    "    - factorial(2) = 1 x 2\n",
    "    - factorial(3) = 1 x 2 x 3\n",
    "    - factorial(4) = 1 x 2 x 3 x 4\n",
    "    - And so on such that\n",
    "    - factorial(k) = factorial(k-1) x k\n",
    "    \n",
    "- How would you code this function?"
   ]
  },
  {
   "cell_type": "markdown",
   "metadata": {
    "slideshow": {
     "slide_type": "slide"
    }
   },
   "source": [
    "## Recursive Functions\n",
    "\n",
    "- For instance, consider this solution:"
   ]
  },
  {
   "cell_type": "code",
   "execution_count": 1,
   "metadata": {
    "slideshow": {
     "slide_type": "fragment"
    }
   },
   "outputs": [],
   "source": [
    "## Factorial function\n",
    "def fact(n):\n",
    "    res = 1\n",
    "    for i in range(1, n + 1):\n",
    "        res *= i\n",
    "    return res"
   ]
  },
  {
   "cell_type": "code",
   "execution_count": 2,
   "metadata": {
    "slideshow": {
     "slide_type": "fragment"
    }
   },
   "outputs": [
    {
     "data": {
      "text/plain": [
       "120"
      ]
     },
     "execution_count": 2,
     "metadata": {},
     "output_type": "execute_result"
    }
   ],
   "source": [
    "# Testing\n",
    "fact(5)"
   ]
  },
  {
   "cell_type": "markdown",
   "metadata": {
    "slideshow": {
     "slide_type": "slide"
    }
   },
   "source": [
    "## Recursive Functions\n",
    "\n",
    "- Note one thing about the function:\n",
    "    - **factorial(k) = factorial(k-1) x k**\n",
    "    \n",
    "- This means that the function could potentially call itself, right?\n",
    "\n",
    "- So, can we rewrite the function above to eliminate the for-loop inside? \n",
    "\n",
    "- The answer is **yes**! Check it out!"
   ]
  },
  {
   "cell_type": "code",
   "execution_count": 3,
   "metadata": {
    "slideshow": {
     "slide_type": "slide"
    }
   },
   "outputs": [],
   "source": [
    "## Factorial function to rewrite\n",
    "def fact(n):\n",
    "    if n == 1:\n",
    "        return 1\n",
    "    else:\n",
    "        return n * fact(n-1)"
   ]
  },
  {
   "cell_type": "code",
   "execution_count": 4,
   "metadata": {
    "slideshow": {
     "slide_type": "fragment"
    }
   },
   "outputs": [
    {
     "data": {
      "text/plain": [
       "120"
      ]
     },
     "execution_count": 4,
     "metadata": {},
     "output_type": "execute_result"
    }
   ],
   "source": [
    "# Testing\n",
    "fact(5)"
   ]
  },
  {
   "cell_type": "markdown",
   "metadata": {
    "slideshow": {
     "slide_type": "slide"
    }
   },
   "source": [
    "## Recursive Functions\n",
    "\n",
    "How to write recursive functions?\n",
    "\n",
    "1. Create a base-case, that will tell the function to stop.\n",
    "\n",
    "2. Think what happens in the case that the function runs more than once.\n",
    "\n",
    "And code!"
   ]
  },
  {
   "cell_type": "markdown",
   "metadata": {
    "slideshow": {
     "slide_type": "slide"
    }
   },
   "source": [
    "**Exercise**: Write a function using recursion to remove the for-loop inside the function below:"
   ]
  },
  {
   "cell_type": "code",
   "execution_count": 5,
   "metadata": {
    "slideshow": {
     "slide_type": "fragment"
    }
   },
   "outputs": [],
   "source": [
    "## Function to change\n",
    "def mysum(l):\n",
    "    \"\"\"Sum the elements in a list\n",
    "    \"\"\"\n",
    "    myres = 0\n",
    "    for i in l:\n",
    "        myres += i\n",
    "    return myres"
   ]
  },
  {
   "cell_type": "code",
   "execution_count": 6,
   "metadata": {
    "slideshow": {
     "slide_type": "fragment"
    }
   },
   "outputs": [
    {
     "data": {
      "text/plain": [
       "11"
      ]
     },
     "execution_count": 6,
     "metadata": {},
     "output_type": "execute_result"
    }
   ],
   "source": [
    "# Testing\n",
    "mysum([5, 2, 4])"
   ]
  },
  {
   "cell_type": "markdown",
   "metadata": {
    "slideshow": {
     "slide_type": "slide"
    }
   },
   "source": [
    "## Recursive Functions\n",
    "\n",
    "Very interesting case:"
   ]
  },
  {
   "cell_type": "code",
   "execution_count": 7,
   "metadata": {
    "slideshow": {
     "slide_type": "slide"
    }
   },
   "outputs": [],
   "source": [
    "# From Learning Python book!\n",
    "def mysum(L):\n",
    "    first, *rest = L\n",
    "    return first if not rest else first + mysum(rest)"
   ]
  },
  {
   "cell_type": "code",
   "execution_count": 8,
   "metadata": {
    "slideshow": {
     "slide_type": "fragment"
    }
   },
   "outputs": [
    {
     "data": {
      "text/plain": [
       "11"
      ]
     },
     "execution_count": 8,
     "metadata": {},
     "output_type": "execute_result"
    }
   ],
   "source": [
    "# Testing\n",
    "mysum([5, 2, 4])\n",
    "\n",
    "# Why does this work?"
   ]
  },
  {
   "cell_type": "markdown",
   "metadata": {
    "slideshow": {
     "slide_type": "slide"
    }
   },
   "source": [
    "## Recursive Functions\n",
    "\n",
    "But recursion has limits: [stack overflow](https://en.wikipedia.org/wiki/Stack_overflow) issues..."
   ]
  },
  {
   "cell_type": "code",
   "execution_count": 9,
   "metadata": {
    "slideshow": {
     "slide_type": "slide"
    }
   },
   "outputs": [
    {
     "data": {
      "text/plain": [
       "3000"
      ]
     },
     "execution_count": 9,
     "metadata": {},
     "output_type": "execute_result"
    }
   ],
   "source": [
    "## Default recursion limit\n",
    "import sys\n",
    "sys.getrecursionlimit()\n",
    "# To change that: sys.setrecursionlimit(10000)"
   ]
  },
  {
   "cell_type": "markdown",
   "metadata": {
    "slideshow": {
     "slide_type": "slide"
    }
   },
   "source": [
    "## Functions as *First Class* Objects\n",
    "\n",
    "- Functions are first-class objects. \n",
    "\n",
    "- This means that you can work with them as any other object:\n",
    "    - Assign names\n",
    "    - Pass to other functions\n",
    "    - etc\n",
    "\n",
    "- Work with them as if they simply were a `string` or a `number` (other first-class objects!)"
   ]
  },
  {
   "cell_type": "markdown",
   "metadata": {
    "slideshow": {
     "slide_type": "slide"
    }
   },
   "source": [
    "## Functions as *First Class* Objects\n",
    "\n",
    "Example:"
   ]
  },
  {
   "cell_type": "code",
   "execution_count": 10,
   "metadata": {
    "slideshow": {
     "slide_type": "fragment"
    }
   },
   "outputs": [
    {
     "name": "stdout",
     "output_type": "stream",
     "text": [
      "CSS IS GREAT!\n"
     ]
    }
   ],
   "source": [
    "## Default recursion limit\n",
    "def myshout(message):\n",
    "    print(message.upper())\n",
    "\n",
    "myshout('CSS is great!')"
   ]
  },
  {
   "cell_type": "code",
   "execution_count": 11,
   "metadata": {
    "slideshow": {
     "slide_type": "fragment"
    }
   },
   "outputs": [
    {
     "name": "stdout",
     "output_type": "stream",
     "text": [
      "NO, CSS IS AWESOME!\n"
     ]
    }
   ],
   "source": [
    "x = myshout\n",
    "x('No, CSS is awesome!')"
   ]
  },
  {
   "cell_type": "code",
   "execution_count": 12,
   "metadata": {
    "slideshow": {
     "slide_type": "slide"
    }
   },
   "outputs": [
    {
     "name": "stdout",
     "output_type": "stream",
     "text": [
      "I LOVE CSS!\n"
     ]
    }
   ],
   "source": [
    "## My applier\n",
    "def applier(func, arg):\n",
    "    func(arg)\n",
    "\n",
    "applier(myshout, 'I love CSS!')"
   ]
  },
  {
   "cell_type": "code",
   "execution_count": 13,
   "metadata": {
    "slideshow": {
     "slide_type": "fragment"
    }
   },
   "outputs": [
    {
     "name": "stdout",
     "output_type": "stream",
     "text": [
      "CSS is great!\n",
      "NO, CSS IS AWESOME!\n"
     ]
    }
   ],
   "source": [
    "thetruth = [(print, 'CSS is great!'), \n",
    "            (myshout, 'No, CSS is awesome!')]\n",
    "\n",
    "for x, y in thetruth:\n",
    "    x(y)"
   ]
  },
  {
   "cell_type": "markdown",
   "metadata": {
    "slideshow": {
     "slide_type": "slide"
    }
   },
   "source": [
    "## Functions Annotation\n",
    "\n",
    "- Does not change the function, but help organize\n",
    "\n",
    "- Example:"
   ]
  },
  {
   "cell_type": "code",
   "execution_count": 14,
   "metadata": {
    "slideshow": {
     "slide_type": "fragment"
    }
   },
   "outputs": [
    {
     "data": {
      "text/plain": [
       "'CSS IS GREAT!'"
      ]
     },
     "execution_count": 14,
     "metadata": {},
     "output_type": "execute_result"
    }
   ],
   "source": [
    "## Default recursion limit\n",
    "def myshout(message: str) -> str:\n",
    "    return message.upper()\n",
    "\n",
    "myshout('CSS is great!')"
   ]
  },
  {
   "cell_type": "code",
   "execution_count": 15,
   "metadata": {
    "slideshow": {
     "slide_type": "fragment"
    }
   },
   "outputs": [
    {
     "data": {
      "text/plain": [
       "{'message': str, 'return': str}"
      ]
     },
     "execution_count": 15,
     "metadata": {},
     "output_type": "execute_result"
    }
   ],
   "source": [
    "myshout.__annotations__"
   ]
  },
  {
   "cell_type": "markdown",
   "metadata": {
    "slideshow": {
     "slide_type": "slide"
    }
   },
   "source": [
    "## Benchmarking\n",
    "\n",
    "- Sometimes it is important to compute the running time of a function.\n",
    "\n",
    "- We can do this using **benchmarks**.\n",
    "\n",
    "- One example, is to use the library *time*:"
   ]
  },
  {
   "cell_type": "code",
   "execution_count": 16,
   "metadata": {
    "slideshow": {
     "slide_type": "fragment"
    }
   },
   "outputs": [],
   "source": [
    "## Benchmarking\n",
    "import time\n",
    "def timer(func, *args):\n",
    "    start = time.time()\n",
    "    for i in range(1000): # Thousand calls for the same function\n",
    "        func(*args)\n",
    "    return time.time() - start"
   ]
  },
  {
   "cell_type": "code",
   "execution_count": 17,
   "metadata": {
    "slideshow": {
     "slide_type": "fragment"
    }
   },
   "outputs": [
    {
     "data": {
      "text/plain": [
       "0.0011582374572753906"
      ]
     },
     "execution_count": 17,
     "metadata": {},
     "output_type": "execute_result"
    }
   ],
   "source": [
    "timer(pow, 2, 1000)"
   ]
  },
  {
   "cell_type": "markdown",
   "metadata": {
    "slideshow": {
     "slide_type": "slide"
    }
   },
   "source": [
    "## Benchmarking\n",
    "\n",
    "- Sometimes it is important to compute the running time of a function.\n",
    "\n",
    "- We can do this using **benchmarks**.\n",
    "\n",
    "- One example, is to use the library *time*:"
   ]
  },
  {
   "cell_type": "code",
   "execution_count": 18,
   "metadata": {
    "slideshow": {
     "slide_type": "fragment"
    }
   },
   "outputs": [],
   "source": [
    "## Benchmarking\n",
    "import time\n",
    "def timer(func, *args):\n",
    "    start = time.time()\n",
    "    for i in range(1000): # Thousand calls for the same function\n",
    "        func(*args)\n",
    "    return time.time() - start"
   ]
  },
  {
   "cell_type": "code",
   "execution_count": 19,
   "metadata": {
    "slideshow": {
     "slide_type": "fragment"
    }
   },
   "outputs": [
    {
     "data": {
      "text/plain": [
       "0.0011508464813232422"
      ]
     },
     "execution_count": 19,
     "metadata": {},
     "output_type": "execute_result"
    }
   ],
   "source": [
    "timer(pow, 2, 1000)"
   ]
  },
  {
   "cell_type": "markdown",
   "metadata": {
    "slideshow": {
     "slide_type": "slide"
    }
   },
   "source": [
    "## $\\lambda$ Functions\n",
    "\n",
    "- Lambda functions are functions that we can define on the fly.\n",
    "\n",
    "- Crucial to functional programming:\n",
    "    - Not all of our functions should be *public*\n",
    "    - Some of them can be *anonymous*\n",
    "\n",
    "- Check out this code:"
   ]
  },
  {
   "cell_type": "code",
   "execution_count": 20,
   "metadata": {
    "slideshow": {
     "slide_type": "fragment"
    }
   },
   "outputs": [
    {
     "name": "stdout",
     "output_type": "stream",
     "text": [
      "4\n",
      "9\n"
     ]
    }
   ],
   "source": [
    "## Anonymous functions\n",
    "func = lambda x: x*2 if x % 2 == 0 else x ** 2\n",
    "print(func(2))\n",
    "print(func(3))"
   ]
  },
  {
   "cell_type": "code",
   "execution_count": 21,
   "metadata": {
    "slideshow": {
     "slide_type": "slide"
    }
   },
   "outputs": [],
   "source": [
    "# Should all be DDMMYYYY but look at this here:\n",
    "birthdates = ['1012000', '10012000', '5031999']\n",
    "\n",
    "# To fix, use lambda functions! No need to fill up the memory with yet another object\n",
    "bd_fixed = [(lambda x: '0' + x if len(x)==7 else x)(x) for x in birthdates]"
   ]
  },
  {
   "cell_type": "code",
   "execution_count": 22,
   "metadata": {
    "slideshow": {
     "slide_type": "fragment"
    }
   },
   "outputs": [
    {
     "name": "stdout",
     "output_type": "stream",
     "text": [
      "['01012000', '10012000', '05031999']\n"
     ]
    }
   ],
   "source": [
    "# Nice!\n",
    "print(bd_fixed)"
   ]
  },
  {
   "cell_type": "markdown",
   "metadata": {
    "slideshow": {
     "slide_type": "slide"
    }
   },
   "source": [
    "## Conclusion\n",
    "\n",
    "- This class we did some more advanced manipulations with functions.\n",
    "\n",
    "- We did:\n",
    "    - Configuring our DataHub\n",
    "    - Recursive Functions\n",
    "    - Functions as First-Class Objects\n",
    "    - Functions Annotations\n",
    "    - Benchmarking\n",
    "    - Anonymous Functions"
   ]
  },
  {
   "cell_type": "markdown",
   "metadata": {
    "slideshow": {
     "slide_type": "slide"
    }
   },
   "source": [
    "## Next class(es)\n",
    "\n",
    "- `iterators` and `generators`.\n",
    "\n",
    "- We will also talk about `map`, `filter`, and the `functools` library (`reduce` function). We will finish with `decorators`.\n",
    "\n",
    "- Functional Programming is a different way to do things.\n",
    "\n",
    "- To learn more, check out this material [here](https://en.wikipedia.org/wiki/Functional_programming)"
   ]
  },
  {
   "cell_type": "markdown",
   "metadata": {
    "slideshow": {
     "slide_type": "slide"
    }
   },
   "source": [
    "## Questions?"
   ]
  },
  {
   "cell_type": "markdown",
   "metadata": {
    "slideshow": {
     "slide_type": "slide"
    }
   },
   "source": [
    "## See you in the next class!"
   ]
  }
 ],
 "metadata": {
  "celltoolbar": "Slideshow",
  "kernelspec": {
   "display_name": "Python 3 (ipykernel)",
   "language": "python",
   "name": "python3"
  },
  "language_info": {
   "codemirror_mode": {
    "name": "ipython",
    "version": 3
   },
   "file_extension": ".py",
   "mimetype": "text/x-python",
   "name": "python",
   "nbconvert_exporter": "python",
   "pygments_lexer": "ipython3",
   "version": "3.9.5"
  }
 },
 "nbformat": 4,
 "nbformat_minor": 4
}
