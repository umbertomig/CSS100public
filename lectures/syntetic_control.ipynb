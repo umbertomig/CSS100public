{
 "cells": [
  {
   "cell_type": "markdown",
   "id": "66a1628f-0686-4f23-ad5f-600b9548fa45",
   "metadata": {
    "slideshow": {
     "slide_type": "slide"
    },
    "tags": []
   },
   "source": [
    "# POLI 273\n",
    "\n",
    "## Class XX - Syntetic Control Methods\n",
    "\n",
    "### Dr. Umberto Mignozzetti (UCSD)"
   ]
  },
  {
   "cell_type": "markdown",
   "id": "1c5a9773",
   "metadata": {
    "slideshow": {
     "slide_type": "slide"
    }
   },
   "source": [
    "## Announcements\n",
    "\n",
    "- TBA"
   ]
  },
  {
   "cell_type": "markdown",
   "id": "59aa1253",
   "metadata": {
    "slideshow": {
     "slide_type": "slide"
    }
   },
   "source": [
    "## Recap\n",
    "\n",
    "- TBA"
   ]
  },
  {
   "cell_type": "markdown",
   "id": "819d3163",
   "metadata": {
    "slideshow": {
     "slide_type": "slide"
    }
   },
   "source": [
    "## Syntetic Control\n",
    "\n",
    "- According to Athey and Imbens (XXXX), \"one of the most important recent innovations in policy evaluation.\"\n",
    "\n",
    "- Objective:\n",
    "    + Estimate the **aggregate effect** of an intervention that **affects a small number of large units** on some **aggregate outcome** of interest (Abadie, 2021).\n",
    "    + If short term and large magnitude, can do time series. If long term, not good.\n",
    "    + Selection in estimating aggregate effects of large interventions needs to be well-defined.\n",
    "        + And this becomes an issue when very few aggregated units,\n",
    "    + **Syntetic control:**\n",
    "        + When units of observation are few and aggregate, a combination of non-affected units can be a *better* comparison than any single unaffected unit alone!"
   ]
  },
  {
   "cell_type": "markdown",
   "id": "d405096d",
   "metadata": {
    "slideshow": {
     "slide_type": "slide"
    }
   },
   "source": [
    "## Syntetic Control\n",
    "\n",
    "Suppose we obtain data for $J+1$ units."
   ]
  },
  {
   "cell_type": "markdown",
   "id": "1280d845",
   "metadata": {
    "slideshow": {
     "slide_type": "slide"
    }
   },
   "source": [
    "# Questions?"
   ]
  },
  {
   "cell_type": "markdown",
   "id": "16edb64c",
   "metadata": {
    "slideshow": {
     "slide_type": "slide"
    }
   },
   "source": [
    "# See you in the next class!"
   ]
  }
 ],
 "metadata": {
  "celltoolbar": "Slideshow",
  "kernelspec": {
   "display_name": "Python 3 (ipykernel)",
   "language": "python",
   "name": "python3"
  },
  "language_info": {
   "codemirror_mode": {
    "name": "ipython",
    "version": 3
   },
   "file_extension": ".py",
   "mimetype": "text/x-python",
   "name": "python",
   "nbconvert_exporter": "python",
   "pygments_lexer": "ipython3",
   "version": "3.9.12"
  }
 },
 "nbformat": 4,
 "nbformat_minor": 5
}
