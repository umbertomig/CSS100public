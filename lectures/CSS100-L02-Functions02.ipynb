{
 "cells": [
  {
   "cell_type": "markdown",
   "metadata": {
    "slideshow": {
     "slide_type": "slide"
    }
   },
   "source": [
    "# CSS 100\n",
    "\n",
    "## Advanced Programming for Computational Social Sciences\n",
    "\n",
    "### Lecture 02 - Functions 02"
   ]
  },
  {
   "cell_type": "markdown",
   "metadata": {
    "slideshow": {
     "slide_type": "slide"
    }
   },
   "source": [
    "## Announcements\n",
    "\n",
    "- Changes in the syllabus:\n",
    "    1. Added a bunch of class rules.\n",
    "    2. Changed a bit the participation policy (mainly removed the signature thing)\n",
    "    3. Added Purva's info\n",
    "\n",
    "- I have made a few changes in the content to adapt to the fact that we will have fewer classes\n",
    "    \n",
    "- This class GitHub: https://github.com/umbertomig/CSS100public\n",
    "\n",
    "- Lab01 is live. Come to Purva's lab to talk about it.\n",
    "\n",
    "- PS01 will be live later today. \n",
    "\n",
    "- I will add a video later today on how to use Gradescope but make sure you have access to it."
   ]
  },
  {
   "cell_type": "markdown",
   "metadata": {
    "slideshow": {
     "slide_type": "slide"
    }
   },
   "source": [
    "## Today's Agenda\n",
    "\n",
    "1. Scope\n",
    "\n",
    "2. Pass by assignments\n",
    "\n",
    "3. Recursive functions"
   ]
  },
  {
   "cell_type": "markdown",
   "metadata": {
    "slideshow": {
     "slide_type": "slide"
    }
   },
   "source": [
    "**Exercise to warm up** (from the *Learning Python* book): What does a function return, if it has no return statement?"
   ]
  },
  {
   "cell_type": "code",
   "execution_count": null,
   "metadata": {
    "slideshow": {
     "slide_type": "fragment"
    }
   },
   "outputs": [],
   "source": [
    "## Your code here"
   ]
  },
  {
   "cell_type": "markdown",
   "metadata": {
    "slideshow": {
     "slide_type": "slide"
    }
   },
   "source": [
    "## Functions\n",
    "\n",
    "- There are some more advanced things we need to learn about functions before start doing Functional Programming.\n",
    "\n",
    "- First, some ground rules of functions:\n",
    "    1. There are two ways to return values:\n",
    "        - `return`: sends result back and stops\n",
    "        - `yield`: sends result back but pick up where they stopped (produce series of results over time)\n",
    "    2. Two ways to create functions:\n",
    "        - `def`: defines \"regular\" functions\n",
    "        - `lambda`: defines \"anonymous\" functions\n",
    "    3. Scope:\n",
    "        - `local`: Insides of the function\n",
    "        - `nonlocal`: Enclosing scope that is not global (neither local nor global)\n",
    "        - `global`: global scope\n",
    "    4. Arguments:\n",
    "        - Arguments are passed by (shared) reference\n",
    "        - `Immutables`: passed by value\n",
    "        - `Mutables`: passed by pointer"
   ]
  },
  {
   "cell_type": "markdown",
   "metadata": {
    "slideshow": {
     "slide_type": "slide"
    }
   },
   "source": [
    "## Scope\n",
    "\n",
    "- When you assign a name to something, Python saves it in something called *namespace*.\n",
    "\n",
    "- But there are several *namespaces* in Python.\n",
    "\n",
    "- `built-in`: All of us have the same\n",
    "\n",
    "- `global`: Our computer (some place called `__main__`.\n",
    "\n",
    "- `nonlocal`: Happen whe you have locals inside locals (between global and local)\n",
    "\n",
    "- `local`: Insides of some function\n",
    "\n",
    "This is called `LEGB`: Local, enclosing, global, built-in."
   ]
  },
  {
   "cell_type": "markdown",
   "metadata": {
    "slideshow": {
     "slide_type": "slide"
    }
   },
   "source": [
    "## Scope\n",
    "\n",
    "- LEGB: This is the order that Python searches for things.\n",
    "\n",
    "- Example: \n",
    "    - `num1` and `sum` will be `global` \n",
    "    - `num2` and `res` will be `local`"
   ]
  },
  {
   "cell_type": "code",
   "execution_count": null,
   "metadata": {
    "slideshow": {
     "slide_type": "fragment"
    }
   },
   "outputs": [],
   "source": [
    "# LEGB example\n",
    "num1 = 10\n",
    "\n",
    "def sum(num2):\n",
    "    res = num2 + num1\n",
    "    return res\n",
    "\n",
    "#print(res)\n",
    "sum(3)"
   ]
  },
  {
   "cell_type": "markdown",
   "metadata": {
    "slideshow": {
     "slide_type": "slide"
    }
   },
   "source": [
    "## Built-in Scope\n",
    "\n",
    "- All of us have it. Simpler than you think: just a `module`"
   ]
  },
  {
   "cell_type": "code",
   "execution_count": null,
   "metadata": {
    "slideshow": {
     "slide_type": "fragment"
    }
   },
   "outputs": [],
   "source": [
    "# Wow moment\n",
    "import builtins\n",
    "dir(builtins)"
   ]
  },
  {
   "cell_type": "markdown",
   "metadata": {
    "slideshow": {
     "slide_type": "slide"
    }
   },
   "source": [
    "## Global Scope and Variables\n",
    "\n",
    "- We can declare a `global` variables:"
   ]
  },
  {
   "cell_type": "code",
   "execution_count": null,
   "metadata": {
    "slideshow": {
     "slide_type": "fragment"
    }
   },
   "outputs": [],
   "source": [
    "# Warning: do this at your own risk\n",
    "num1 = 10\n",
    "\n",
    "def sum(num2):\n",
    "    global res\n",
    "    res = num2 + num1\n",
    "    return res\n",
    "\n",
    "print(sum(3))\n",
    "print(res)"
   ]
  },
  {
   "cell_type": "markdown",
   "metadata": {
    "slideshow": {
     "slide_type": "slide"
    }
   },
   "source": [
    "## Non-local\n",
    "\n",
    "- We can declare a `nonlocal` variables (a Python 3.x thing):"
   ]
  },
  {
   "cell_type": "code",
   "execution_count": null,
   "metadata": {
    "slideshow": {
     "slide_type": "fragment"
    }
   },
   "outputs": [],
   "source": [
    "# Example with error (fix it?)\n",
    "def sum10outer():\n",
    "    num1 = 10 # Local\n",
    "\n",
    "    # nested function  \n",
    "    def sum100local():\n",
    "        # NEED TO DECLARE num1!\n",
    "        #num1 = 1000 #(???)\n",
    "        num1 += 100\n",
    "        print(\"inner without local num1:\", num1)\n",
    "        \n",
    "    # nested function  \n",
    "    def sum100nonlocal():\n",
    "        nonlocal num1\n",
    "        # No NEED TO DECLARE num1!\n",
    "        num1 += 100\n",
    "        print(\"inner without local num1:\", num1)\n",
    "\n",
    "    print('My sum100local:')\n",
    "    sum100local()\n",
    "    print(\"My num1 after sum100local:\", num1)\n",
    "    print('\\nMy sum100nonlocal:')\n",
    "    sum100nonlocal()\n",
    "    print(\"My num1 after sum100local:\", num1)\n",
    "\n",
    "sum10outer()"
   ]
  },
  {
   "cell_type": "markdown",
   "metadata": {
    "slideshow": {
     "slide_type": "slide"
    }
   },
   "source": [
    "## Passing Arguments (and messing it up)\n",
    "\n",
    "- *Mutable objects* are passed as [pointers](https://en.wikipedia.org/wiki/Pointer_(computer_programming)). Pointers simply are addresses in the memory, not the object per se.\n",
    "\n",
    "- When you change a mutable inside some function, you may create a *side-effect* of changing the actual values."
   ]
  },
  {
   "cell_type": "code",
   "execution_count": null,
   "metadata": {
    "slideshow": {
     "slide_type": "fragment"
    }
   },
   "outputs": [],
   "source": [
    "def changer(a, b):\n",
    "    a = 2\n",
    "    b[0] = 'spam'\n",
    "\n",
    "x = 1\n",
    "l = [1, 2]\n",
    "changer(x, l)\n",
    "x, l # whaaat?!"
   ]
  },
  {
   "cell_type": "markdown",
   "metadata": {
    "slideshow": {
     "slide_type": "slide"
    }
   },
   "source": [
    "## Passing Arguments (and messing it up)\n",
    "\n",
    "- To fix this, you should either pass a copy of the object, or pass an *immutable object*."
   ]
  },
  {
   "cell_type": "code",
   "execution_count": null,
   "metadata": {
    "slideshow": {
     "slide_type": "fragment"
    }
   },
   "outputs": [],
   "source": [
    "# Let's fix this?\n",
    "def changer(a, b):\n",
    "    a = 2\n",
    "    b[0] = 'spam'\n",
    "\n",
    "x = 1\n",
    "l = [1, 2]\n",
    "changer(x, l)\n",
    "x, l # whaaat?!"
   ]
  },
  {
   "cell_type": "markdown",
   "metadata": {
    "slideshow": {
     "slide_type": "slide"
    }
   },
   "source": [
    "## Passing Arguments (and messing it up)\n",
    "\n",
    "- Ways to pass arguments:\n",
    "    1. `def func(arg)`: One argument, no default value\n",
    "    2. `def func(arg = val)`: One argument, default value `val`\n",
    "    3. `def func(arg1, arg2)`: Two arguments, no default (logic can be extended for many args)\n",
    "    4. `def func(arg1, arg2 = val)`: Two arguments, no default in the first, `val` default in the second (logic can be extended for many args and many default vals)\n",
    "    5. `def func(*args)`: Positional list of arguments.\n",
    "    6. `def func(*args)`: Positional *dictionary* of arguments."
   ]
  },
  {
   "cell_type": "code",
   "execution_count": null,
   "metadata": {
    "slideshow": {
     "slide_type": "fragment"
    }
   },
   "outputs": [],
   "source": [
    "# Let's check it out\n",
    "def func(arg, *largs, **dargs):\n",
    "    print('My arg: ', arg, end = '\\n\\n')\n",
    "    print('My list of args: ', largs, end = '\\n\\n')\n",
    "    print('My dictionary of args: ', dargs, end = '\\n\\n')\n",
    "func(1, 2, 3, x = 4, y = 5)"
   ]
  },
  {
   "cell_type": "markdown",
   "metadata": {
    "slideshow": {
     "slide_type": "slide"
    }
   },
   "source": [
    "## Recursive Functions\n",
    "\n",
    "- Recursive functions are functions that call themselves during their execution.\n",
    "\n",
    "- This is a very cool and clean way to write a function in Python.\n",
    "\n",
    "- A factorial in math, by definition, is a function that:\n",
    "    - factorial(1) = 1\n",
    "    - factorial(2) = 1 x 2\n",
    "    - factorial(3) = 1 x 2 x 3\n",
    "    - factorial(4) = 1 x 2 x 3 x 4\n",
    "    - And so on such that\n",
    "    - factorial(k) = factorial(k-1) x k\n",
    "    \n",
    "- How would you code this function?"
   ]
  },
  {
   "cell_type": "markdown",
   "metadata": {
    "slideshow": {
     "slide_type": "slide"
    }
   },
   "source": [
    "## Recursive Functions\n",
    "\n",
    "- For instance, consider this solution:"
   ]
  },
  {
   "cell_type": "code",
   "execution_count": null,
   "metadata": {
    "slideshow": {
     "slide_type": "fragment"
    }
   },
   "outputs": [],
   "source": [
    "## Factorial function\n",
    "def fact(n):\n",
    "    res = 1\n",
    "    for i in range(1, n + 1):\n",
    "        res *= i\n",
    "    return res"
   ]
  },
  {
   "cell_type": "code",
   "execution_count": null,
   "metadata": {
    "slideshow": {
     "slide_type": "fragment"
    }
   },
   "outputs": [],
   "source": [
    "# Testing\n",
    "fact(5)"
   ]
  },
  {
   "cell_type": "markdown",
   "metadata": {
    "slideshow": {
     "slide_type": "slide"
    }
   },
   "source": [
    "## Recursive Functions\n",
    "\n",
    "- Note one thing about the function:\n",
    "    - **factorial(k) = factorial(k-1) x k**\n",
    "    \n",
    "- This means that the function could potentially call itself, right?\n",
    "\n",
    "- So, can we rewrite the function above to eliminate the for-loop inside? \n",
    "\n",
    "- The answer is **yes**! Check it out!"
   ]
  },
  {
   "cell_type": "code",
   "execution_count": null,
   "metadata": {
    "slideshow": {
     "slide_type": "slide"
    }
   },
   "outputs": [],
   "source": [
    "## Factorial function to rewrite\n",
    "def fact(n):\n",
    "    res = 1\n",
    "    for i in range(1, n + 1):\n",
    "        res *= i\n",
    "    return res"
   ]
  },
  {
   "cell_type": "code",
   "execution_count": null,
   "metadata": {
    "slideshow": {
     "slide_type": "fragment"
    }
   },
   "outputs": [],
   "source": [
    "# Testing\n",
    "fact(5)"
   ]
  },
  {
   "cell_type": "markdown",
   "metadata": {
    "slideshow": {
     "slide_type": "slide"
    }
   },
   "source": [
    "## Recursive Functions\n",
    "\n",
    "How to write recursive functions?\n",
    "\n",
    "1. Create a base-case, that will tell the function to stop.\n",
    "\n",
    "2. Think what happens in the case that the function runs more than once.\n",
    "\n",
    "And code!"
   ]
  },
  {
   "cell_type": "markdown",
   "metadata": {
    "slideshow": {
     "slide_type": "slide"
    }
   },
   "source": [
    "**Exercise**: Write a function using recursion to remove the for-loop inside the function below:"
   ]
  },
  {
   "cell_type": "code",
   "execution_count": null,
   "metadata": {
    "slideshow": {
     "slide_type": "fragment"
    }
   },
   "outputs": [],
   "source": [
    "## Function to change\n",
    "def mysum(l):\n",
    "    \"\"\"Sum the elements in a list\n",
    "    \"\"\"\n",
    "    myres = 0\n",
    "    for i in l:\n",
    "        myres += i\n",
    "    return myres"
   ]
  },
  {
   "cell_type": "code",
   "execution_count": null,
   "metadata": {
    "slideshow": {
     "slide_type": "fragment"
    }
   },
   "outputs": [],
   "source": [
    "# Testing\n",
    "mysum([5, 2, 4])"
   ]
  },
  {
   "cell_type": "markdown",
   "metadata": {
    "slideshow": {
     "slide_type": "slide"
    }
   },
   "source": [
    "## Recursive Functions\n",
    "\n",
    "Very interesting case:"
   ]
  },
  {
   "cell_type": "code",
   "execution_count": null,
   "metadata": {
    "slideshow": {
     "slide_type": "slide"
    }
   },
   "outputs": [],
   "source": [
    "# From Learning Python book!\n",
    "def mysum(L):\n",
    "    first, *rest = L\n",
    "    return first if not rest else first + mysum(rest)"
   ]
  },
  {
   "cell_type": "code",
   "execution_count": null,
   "metadata": {
    "slideshow": {
     "slide_type": "fragment"
    }
   },
   "outputs": [],
   "source": [
    "# Testing\n",
    "mysum([5, 2, 4])\n",
    "\n",
    "# Why does this work?"
   ]
  },
  {
   "cell_type": "markdown",
   "metadata": {
    "slideshow": {
     "slide_type": "slide"
    }
   },
   "source": [
    "## Recursive Functions\n",
    "\n",
    "But recursion has limits: [stack overflow](https://en.wikipedia.org/wiki/Stack_overflow) issues..."
   ]
  },
  {
   "cell_type": "code",
   "execution_count": null,
   "metadata": {
    "slideshow": {
     "slide_type": "slide"
    }
   },
   "outputs": [],
   "source": [
    "## Default recursion limit\n",
    "import sys\n",
    "sys.getrecursionlimit()\n",
    "# To change that: sys.setrecursionlimit(10000)"
   ]
  },
  {
   "cell_type": "markdown",
   "metadata": {
    "slideshow": {
     "slide_type": "slide"
    }
   },
   "source": [
    "## Functions as *First Class* Objects\n",
    "\n",
    "- Functions are first-class objects. \n",
    "\n",
    "- This means that you can work with them as any other object:\n",
    "    - Assign names\n",
    "    - Pass to other functions\n",
    "    - etc\n",
    "\n",
    "- Work with them as if they simply were a `string` or a `number` (other first-class objects!)"
   ]
  },
  {
   "cell_type": "markdown",
   "metadata": {
    "slideshow": {
     "slide_type": "slide"
    }
   },
   "source": [
    "## Functions as *First Class* Objects\n",
    "\n",
    "Example:"
   ]
  },
  {
   "cell_type": "code",
   "execution_count": null,
   "metadata": {
    "slideshow": {
     "slide_type": "fragment"
    }
   },
   "outputs": [],
   "source": [
    "## Default recursion limit\n",
    "def myshout(message):\n",
    "    print(message.upper())\n",
    "\n",
    "myshout('CSS is great!')"
   ]
  },
  {
   "cell_type": "code",
   "execution_count": null,
   "metadata": {
    "slideshow": {
     "slide_type": "fragment"
    }
   },
   "outputs": [],
   "source": [
    "x = myshout\n",
    "x('No, CSS is awesome!')"
   ]
  },
  {
   "cell_type": "code",
   "execution_count": null,
   "metadata": {
    "slideshow": {
     "slide_type": "slide"
    }
   },
   "outputs": [],
   "source": [
    "## My applier\n",
    "def applier(func, arg):\n",
    "    func(arg)\n",
    "\n",
    "applier(myshout, 'I love CSS!')"
   ]
  },
  {
   "cell_type": "code",
   "execution_count": null,
   "metadata": {
    "slideshow": {
     "slide_type": "fragment"
    }
   },
   "outputs": [],
   "source": [
    "thetruth = [(print, 'CSS is great!'), \n",
    "            (myshout, 'No, CSS is awesome!')]\n",
    "\n",
    "for x, y in thetruth:\n",
    "    x(y)"
   ]
  },
  {
   "cell_type": "markdown",
   "metadata": {
    "slideshow": {
     "slide_type": "slide"
    }
   },
   "source": [
    "## Functions Annotation\n",
    "\n",
    "- Does not change the function, but help organize\n",
    "\n",
    "- Example:"
   ]
  },
  {
   "cell_type": "code",
   "execution_count": null,
   "metadata": {
    "slideshow": {
     "slide_type": "fragment"
    }
   },
   "outputs": [],
   "source": [
    "## Default recursion limit\n",
    "def myshout(message: str) -> str:\n",
    "    return message.upper()\n",
    "\n",
    "myshout('CSS is great!')"
   ]
  },
  {
   "cell_type": "code",
   "execution_count": null,
   "metadata": {
    "slideshow": {
     "slide_type": "fragment"
    }
   },
   "outputs": [],
   "source": [
    "myshout.__annotations__"
   ]
  },
  {
   "cell_type": "markdown",
   "metadata": {
    "slideshow": {
     "slide_type": "slide"
    }
   },
   "source": [
    "## Conclusion\n",
    "\n",
    "- This class we did some more advanced manipulations with functions.\n",
    "\n",
    "- We did:\n",
    "    - Scope\n",
    "    - Arguments\n",
    "    - Recursion"
   ]
  },
  {
   "cell_type": "markdown",
   "metadata": {
    "slideshow": {
     "slide_type": "slide"
    }
   },
   "source": [
    "## Next class(es)\n",
    "\n",
    "- We will talk about `lambda` functions. In Functional Programming, `lambda` functions are very useful. \n",
    "\n",
    "- `iterators` and `generators`.\n",
    "\n",
    "- We will also talk about `map`, `filter`, and the `functools` library (`reduce` function). We will finish with `decorators`.\n",
    "\n",
    "- Functional Programming is a different way to do things.\n",
    "\n",
    "- To learn more, check out this material [here](https://en.wikipedia.org/wiki/Functional_programming)"
   ]
  },
  {
   "cell_type": "markdown",
   "metadata": {
    "slideshow": {
     "slide_type": "slide"
    }
   },
   "source": [
    "## Questions?"
   ]
  },
  {
   "cell_type": "markdown",
   "metadata": {
    "slideshow": {
     "slide_type": "slide"
    }
   },
   "source": [
    "## See you in the next class!"
   ]
  }
 ],
 "metadata": {
  "celltoolbar": "Slideshow",
  "kernelspec": {
   "display_name": "Python 3 (ipykernel)",
   "language": "python",
   "name": "python3"
  },
  "language_info": {
   "codemirror_mode": {
    "name": "ipython",
    "version": 3
   },
   "file_extension": ".py",
   "mimetype": "text/x-python",
   "name": "python",
   "nbconvert_exporter": "python",
   "pygments_lexer": "ipython3",
   "version": "3.9.5"
  }
 },
 "nbformat": 4,
 "nbformat_minor": 4
}
